# Exercício 1 - Imprima na tela os números de 1 a 10. Use uma lista para armazenar os números.

Lista1 = [1,2,3,4,5,6,7,8,9,10]
Lista1

# Exercício 2 - Crie uma lista de 5 objetos e imprima na tela

Lista2 = ['Baixo', 'Guitarra', 'Bateria', 'Teclado', 'Flauta']
string1 = 'Contra-baixo'
string2 = 'acústico'
string3 = string1 + ' ' + string2
string3

# Exercício 4 - Crie uma tupla com os seguintes elementos: 1, 2, 2, 3, 4, 4, 4, 5 e depois utilize a função count do 
# objeto tupla para verificar quantas vezes o número 4 aparece na tupla
tupla1 = (1,2,2,3,4,4,4,5)
tupla1.count(4)

# Exercício 5 - Crie um dicionário vazio e imprima na tela
dic1 = {}
dic1

# Exercício 6 - Crie um dicionário com 3 chaves e 3 valores e imprima na tela
dic2 = {'key1': 'a', 'key2': 'b', 'key3': 'c'}
dic2

# Exercício 7 - Adicione mais um elemento ao dicionário criado no exercício anterior e imprima na tela
dic2['key4'] = 'd'
dic2

# Exercício 8 - Crie um dicionário com 3 chaves e 3 valores. Um dos valores deve ser uma lista de 2 elementos numéricos. 
# Imprima o dicionário na tela.
dic3 = {'key0': 1, 'key1': [20,89], 'key3':10}
dic3

# Exercício 9 - Crie uma lista de 4 elementos. O primeiro elemento deve ser uma string, 
# o segundo uma tupla de 2 elementos, o terceiro um dcionário com 2 chaves e 2 valores e 
# o quarto elemento um valor do tipo float.
# Imprima a lista na tela.
lista3 = ['Música', ('toca','alma'), {'key1':'arte','key2':'espirita'},3.2]
lista3

# Exercício 10 - Considere a string abaixo. Imprima na tela apenas os caracteres da posição 1 a 18.
frase = 'Cientista de Dados é o profissional mais sexy do século XXI'
frase[0:18]
